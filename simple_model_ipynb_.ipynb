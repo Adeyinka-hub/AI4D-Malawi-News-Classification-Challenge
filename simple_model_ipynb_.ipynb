{
  "nbformat": 4,
  "nbformat_minor": 0,
  "metadata": {
    "kernelspec": {
      "display_name": "Python 3",
      "language": "python",
      "name": "python3"
    },
    "language_info": {
      "codemirror_mode": {
        "name": "ipython",
        "version": 3
      },
      "file_extension": ".py",
      "mimetype": "text/x-python",
      "name": "python",
      "nbconvert_exporter": "python",
      "pygments_lexer": "ipython3",
      "version": "3.7.3"
    },
    "colab": {
      "name": "simple model.ipynb\"",
      "provenance": [],
      "collapsed_sections": []
    }
  },
  "cells": [
    {
      "cell_type": "code",
      "metadata": {
        "id": "CoL84Aokx4XH",
        "colab": {
          "base_uri": "https://localhost:8080/"
        },
        "outputId": "b68bc825-093c-45c0-8788-5f8f812e3344"
      },
      "source": [
        "import pandas as pd\n",
        "import numpy as np\n",
        "import matplotlib.pyplot as plt\n",
        "%matplotlib inline\n",
        "from sklearn.linear_model import LogisticRegression\n",
        "from sklearn.feature_extraction.text import CountVectorizer\n",
        "from sklearn.feature_extraction.text import TfidfVectorizer\n",
        "from sklearn.feature_extraction.text import TfidfTransformer\n",
        "from sklearn.pipeline import Pipeline\n",
        "from sklearn.model_selection import GridSearchCV\n",
        "from sklearn.model_selection import cross_val_score\n",
        "from sklearn.model_selection import train_test_split\n",
        "from sklearn.model_selection import StratifiedKFold\n",
        "from sklearn.pipeline import  FeatureUnion\n",
        "from sklearn.preprocessing import FunctionTransformer\n",
        "import gensim\n",
        "from gensim.models.fasttext import FastText \n",
        "import numpy as np\n",
        "import pandas as pd\n",
        "import re\n",
        "\n",
        "\n",
        "from sklearn.cluster import KMeans\n",
        "from sklearn.linear_model import RidgeClassifier, LogisticRegression\n",
        "from sklearn.neighbors import KNeighborsClassifier\n",
        "from sklearn.ensemble import RandomForestClassifier, ExtraTreesClassifier\n",
        "from sklearn.svm import LinearSVC, SVC\n",
        "from sklearn.naive_bayes import BernoulliNB, GaussianNB, MultinomialNB\n",
        "from xgboost import XGBClassifier\n",
        "from sklearn.metrics import f1_score, confusion_matrix, classification_report\n",
        "\n",
        "from imblearn.over_sampling import SMOTE\n",
        "from imblearn.pipeline import Pipeline\n",
        "\n",
        "\n"
      ],
      "execution_count": null,
      "outputs": [
        {
          "output_type": "stream",
          "text": [
            "/usr/local/lib/python3.7/dist-packages/sklearn/externals/six.py:31: FutureWarning: The module is deprecated in version 0.21 and will be removed in version 0.23 since we've dropped support for Python 2.7. Please rely on the official version of six (https://pypi.org/project/six/).\n",
            "  \"(https://pypi.org/project/six/).\", FutureWarning)\n",
            "/usr/local/lib/python3.7/dist-packages/sklearn/utils/deprecation.py:144: FutureWarning: The sklearn.neighbors.base module is  deprecated in version 0.22 and will be removed in version 0.24. The corresponding classes / functions should instead be imported from sklearn.neighbors. Anything that cannot be imported from sklearn.neighbors is now part of the private API.\n",
            "  warnings.warn(message, FutureWarning)\n"
          ],
          "name": "stderr"
        }
      ]
    },
    {
      "cell_type": "code",
      "metadata": {
        "colab": {
          "base_uri": "https://localhost:8080/",
          "height": 204
        },
        "id": "68KcoqNcx4XK",
        "outputId": "b5459970-4de9-4b16-d0cb-a830bc978d5a"
      },
      "source": [
        "train = pd.read_csv(\"train.csv\")\n",
        "\n",
        "train.head()"
      ],
      "execution_count": null,
      "outputs": [
        {
          "output_type": "execute_result",
          "data": {
            "text/html": [
              "<div>\n",
              "<style scoped>\n",
              "    .dataframe tbody tr th:only-of-type {\n",
              "        vertical-align: middle;\n",
              "    }\n",
              "\n",
              "    .dataframe tbody tr th {\n",
              "        vertical-align: top;\n",
              "    }\n",
              "\n",
              "    .dataframe thead th {\n",
              "        text-align: right;\n",
              "    }\n",
              "</style>\n",
              "<table border=\"1\" class=\"dataframe\">\n",
              "  <thead>\n",
              "    <tr style=\"text-align: right;\">\n",
              "      <th></th>\n",
              "      <th>ID</th>\n",
              "      <th>Text</th>\n",
              "      <th>Label</th>\n",
              "    </tr>\n",
              "  </thead>\n",
              "  <tbody>\n",
              "    <tr>\n",
              "      <th>0</th>\n",
              "      <td>ID_AASHwXxg</td>\n",
              "      <td>Mwangonde: Khansala wachinyamata Akamati achi...</td>\n",
              "      <td>POLITICS</td>\n",
              "    </tr>\n",
              "    <tr>\n",
              "      <th>1</th>\n",
              "      <td>ID_AGoFySzn</td>\n",
              "      <td>MCP siidakhutire ndi kalembera Chipani cha Ma...</td>\n",
              "      <td>POLITICS</td>\n",
              "    </tr>\n",
              "    <tr>\n",
              "      <th>2</th>\n",
              "      <td>ID_AGrrkBGP</td>\n",
              "      <td>Bungwe la MANEPO Lapempha Boma Liganizire Anth...</td>\n",
              "      <td>HEALTH</td>\n",
              "    </tr>\n",
              "    <tr>\n",
              "      <th>3</th>\n",
              "      <td>ID_AIJeigeG</td>\n",
              "      <td>Ndale zogawanitsa miyambo zanyanya Si zachile...</td>\n",
              "      <td>POLITICS</td>\n",
              "    </tr>\n",
              "    <tr>\n",
              "      <th>4</th>\n",
              "      <td>ID_APMprMbV</td>\n",
              "      <td>Nanga wapolisi ataphofomoka? Masiku ano sichi...</td>\n",
              "      <td>LAW/ORDER</td>\n",
              "    </tr>\n",
              "  </tbody>\n",
              "</table>\n",
              "</div>"
            ],
            "text/plain": [
              "            ID                                               Text      Label\n",
              "0  ID_AASHwXxg   Mwangonde: Khansala wachinyamata Akamati achi...   POLITICS\n",
              "1  ID_AGoFySzn   MCP siidakhutire ndi kalembera Chipani cha Ma...   POLITICS\n",
              "2  ID_AGrrkBGP  Bungwe la MANEPO Lapempha Boma Liganizire Anth...     HEALTH\n",
              "3  ID_AIJeigeG   Ndale zogawanitsa miyambo zanyanya Si zachile...   POLITICS\n",
              "4  ID_APMprMbV   Nanga wapolisi ataphofomoka? Masiku ano sichi...  LAW/ORDER"
            ]
          },
          "metadata": {
            "tags": []
          },
          "execution_count": 2
        }
      ]
    },
    {
      "cell_type": "code",
      "metadata": {
        "colab": {
          "base_uri": "https://localhost:8080/"
        },
        "id": "t1i0gu6DVgn6",
        "outputId": "f9b216d2-9b33-4f47-b341-609909738921"
      },
      "source": [
        "train.shape"
      ],
      "execution_count": null,
      "outputs": [
        {
          "output_type": "execute_result",
          "data": {
            "text/plain": [
              "(1436, 3)"
            ]
          },
          "metadata": {
            "tags": []
          },
          "execution_count": 3
        }
      ]
    },
    {
      "cell_type": "code",
      "metadata": {
        "id": "K0wnJHmnx4XK",
        "colab": {
          "base_uri": "https://localhost:8080/",
          "height": 120
        },
        "outputId": "7315c415-9305-4662-c9ee-9ef79c827f9c"
      },
      "source": [
        "train.Text[6]"
      ],
      "execution_count": null,
      "outputs": [
        {
          "output_type": "execute_result",
          "data": {
            "application/vnd.google.colaboratory.intrinsic+json": {
              "type": "string"
            },
            "text/plain": [
              "'Kwaya ya St. James Chilomoni Yakwanitsa Zaka 40 Wolemba: Sylvester Kasitomu wp-content/uploads/2019/09/chilomoni.jpg\" alt=\"\" width=\"427\" height=\"391\" />Tchalitchi la St. James Chilomoni ku Blantyre Kwaya ya St. James ya m`parish ya Chilomoni mu arkdayosizi ya Blantyre yayamikira mamembala ake omwe akhala akutumikira mu kwayayi kwa nthawi yaitali kamba ka kakudzipereka kwao potukula maimbidwe mu kwayayi. \\nWapampando wa kwayayi a Ezekiel Lokote ndiwo alankhula izi pa mwambo wa msembe ya ukaristia yothokoza mulungu kuti kwayayi yakwanitsa zaka makumi anayi (40) chiyikhazikitsireni. \\nIwo ati mamembalawa achita zazikulu mu kwayayi kwa nthawi yaitali zomwe ati zathandiza kwambiri potuluka mayimbidwe a kwayayi. \\nIfeyo tinachiona cha nzeru kuti tikonze mwambowu pofuna kuwathokoza mamemba athu kaamba ka ntchito yomwe agwira poonetsetsa kuti mayimbidwe mukwayayi akhalepo kwa zaka 40 zapitazi ena mwa mamembalawa akwanitsa zaka 30 akuimbira mulungu mukwayayi zomwe ndizonyaditsa Polankhulapo mmodzi mwa omwe atumikira kwayayi kwa zaka zochuluka mayi Betti Banda anati iwo anayamba kwayayi ali ndi zaka zochepa mpaka pano zomwe zachititsa kuti moyo wawo wamapempero usinthike. \\nNdinayamba kwaya imeneyi ndiri ndi zaka 10 ndipo ndaimba kwayayi kwa zaka makumi atatu zomwe ndizopindulitsa mu moyo wanga wa uzimu kaamba koti pamene kwayayi ikukula inenso ndikukula muuzimu, anatero mayi Banda. \\nKwaya St. James yomwe inayimbira misa yolandira mtsogoleri wa mpingo wakatolika pa dziko lonse papa yohane Paulo wachiwiri yemwe anayendera dziko lino mu chaka cha 1989 inakhazikitsidwa mu chaka cha 1979. \\n'"
            ]
          },
          "metadata": {
            "tags": []
          },
          "execution_count": 4
        }
      ]
    },
    {
      "cell_type": "code",
      "metadata": {
        "colab": {
          "base_uri": "https://localhost:8080/",
          "height": 359
        },
        "id": "daEkQFAvx4XL",
        "outputId": "08764d06-25fb-400e-d0c5-e410f407c227"
      },
      "source": [
        "test = pd.read_csv(\"test.csv\")\n",
        "test.head(10)"
      ],
      "execution_count": null,
      "outputs": [
        {
          "output_type": "execute_result",
          "data": {
            "text/html": [
              "<div>\n",
              "<style scoped>\n",
              "    .dataframe tbody tr th:only-of-type {\n",
              "        vertical-align: middle;\n",
              "    }\n",
              "\n",
              "    .dataframe tbody tr th {\n",
              "        vertical-align: top;\n",
              "    }\n",
              "\n",
              "    .dataframe thead th {\n",
              "        text-align: right;\n",
              "    }\n",
              "</style>\n",
              "<table border=\"1\" class=\"dataframe\">\n",
              "  <thead>\n",
              "    <tr style=\"text-align: right;\">\n",
              "      <th></th>\n",
              "      <th>ID</th>\n",
              "      <th>Text</th>\n",
              "    </tr>\n",
              "  </thead>\n",
              "  <tbody>\n",
              "    <tr>\n",
              "      <th>0</th>\n",
              "      <td>ID_ADHEtjTi</td>\n",
              "      <td>Abambo odzikhweza akuchuluka Kafukufuku wa ap...</td>\n",
              "    </tr>\n",
              "    <tr>\n",
              "      <th>1</th>\n",
              "      <td>ID_AHfJktdQ</td>\n",
              "      <td>Ambuye Ziyaye Ayamikira Aphunzitsi a Tilitonse...</td>\n",
              "    </tr>\n",
              "    <tr>\n",
              "      <th>2</th>\n",
              "      <td>ID_AUJIHpZr</td>\n",
              "      <td>Anatcheleza: Akundiopseza a gogo wanga Akundi...</td>\n",
              "    </tr>\n",
              "    <tr>\n",
              "      <th>3</th>\n",
              "      <td>ID_AUKYBbIM</td>\n",
              "      <td>Ulova wafika posauzana Adatenga digiri ya uph...</td>\n",
              "    </tr>\n",
              "    <tr>\n",
              "      <th>4</th>\n",
              "      <td>ID_AZnsVPEi</td>\n",
              "      <td>Dzombe kukoma, koma Kuyambira makedzana, pant...</td>\n",
              "    </tr>\n",
              "    <tr>\n",
              "      <th>5</th>\n",
              "      <td>ID_AcEmtLNf</td>\n",
              "      <td>Papa Watsiriza Ulendo Wake wa Nambala 32 Mtsog...</td>\n",
              "    </tr>\n",
              "    <tr>\n",
              "      <th>6</th>\n",
              "      <td>ID_AeOXSXRV</td>\n",
              "      <td>MCP yakhumudwa ndi kasankhidwe ka nduna Chipa...</td>\n",
              "    </tr>\n",
              "    <tr>\n",
              "      <th>7</th>\n",
              "      <td>ID_AgyQFeQn</td>\n",
              "      <td>Asemphana pankhani ya malata, simenti sabusid...</td>\n",
              "    </tr>\n",
              "    <tr>\n",
              "      <th>8</th>\n",
              "      <td>ID_AjOcippL</td>\n",
              "      <td>Boma lapempha amalawi adekhe pa za mathanyula...</td>\n",
              "    </tr>\n",
              "    <tr>\n",
              "      <th>9</th>\n",
              "      <td>ID_AjzKuqko</td>\n",
              "      <td>Zipani zilonjeza kampeni yotentha Tatulutsa k...</td>\n",
              "    </tr>\n",
              "  </tbody>\n",
              "</table>\n",
              "</div>"
            ],
            "text/plain": [
              "            ID                                               Text\n",
              "0  ID_ADHEtjTi   Abambo odzikhweza akuchuluka Kafukufuku wa ap...\n",
              "1  ID_AHfJktdQ  Ambuye Ziyaye Ayamikira Aphunzitsi a Tilitonse...\n",
              "2  ID_AUJIHpZr   Anatcheleza: Akundiopseza a gogo wanga Akundi...\n",
              "3  ID_AUKYBbIM   Ulova wafika posauzana Adatenga digiri ya uph...\n",
              "4  ID_AZnsVPEi   Dzombe kukoma, koma Kuyambira makedzana, pant...\n",
              "5  ID_AcEmtLNf  Papa Watsiriza Ulendo Wake wa Nambala 32 Mtsog...\n",
              "6  ID_AeOXSXRV   MCP yakhumudwa ndi kasankhidwe ka nduna Chipa...\n",
              "7  ID_AgyQFeQn   Asemphana pankhani ya malata, simenti sabusid...\n",
              "8  ID_AjOcippL   Boma lapempha amalawi adekhe pa za mathanyula...\n",
              "9  ID_AjzKuqko   Zipani zilonjeza kampeni yotentha Tatulutsa k..."
            ]
          },
          "metadata": {
            "tags": []
          },
          "execution_count": 5
        }
      ]
    },
    {
      "cell_type": "code",
      "metadata": {
        "id": "QQW3sB-Yx4XM",
        "colab": {
          "base_uri": "https://localhost:8080/",
          "height": 504
        },
        "outputId": "b4a1dc50-e1f3-4c4c-ebbe-87113824d16e"
      },
      "source": [
        "train.Label.value_counts().plot.bar(figsize=(12, 6))\n",
        "plt.title('Classes distribution');"
      ],
      "execution_count": null,
      "outputs": [
        {
          "output_type": "display_data",
          "data": {
            "image/png": "[encoded data removed]",
            "text/plain": [
              "<Figure size 864x432 with 1 Axes>"
            ]
          },
          "metadata": {
            "tags": [],
            "needs_background": "light"
          }
        }
      ]
    },
    {
      "cell_type": "code",
      "metadata": {
        "id": "yMrgTHEu10Ho"
      },
      "source": [
        "def preprosses_text(doc):\n",
        "  # remove punctuation signs and multiple spaces\n",
        "  regex_punc = re.compile('[%s]'%re.escape('.,!?'))\n",
        "  doc = re.sub( regex_punc, ' ',doc)\n",
        "  doc = doc.strip().lower() \n",
        "  regex_seq_spaces = re.compile(' {2,}')\n",
        "  doc = re.sub( regex_seq_spaces, ' ',doc)\n",
        "  return doc\n",
        "\n",
        "  \n",
        "train['text'] = train.Text.apply(lambda x: [i for i in preprosses_text(x).split() if len(i) > 1])\n",
        "test['text'] = test.Text.apply(lambda x: [i for i in preprosses_text(x).split() if len(i) > 1])"
      ],
      "execution_count": null,
      "outputs": []
    },
    {
      "cell_type": "code",
      "metadata": {
        "id": "Gdmgi_YVbp4w"
      },
      "source": [
        ""
      ],
      "execution_count": null,
      "outputs": []
    },
    {
      "cell_type": "code",
      "metadata": {
        "colab": {
          "base_uri": "https://localhost:8080/"
        },
        "id": "f3YQDaSex4XM",
        "outputId": "033de35d-4b36-4ee8-a832-5bd37d73605c"
      },
      "source": [
        "%%time\n",
        "model = FastText(train.text.to_list() + test.text.to_list() , size=60, window=30, min_count=1, workers=12, iter=20, sg=1, bucket=400_000)\n",
        "model.save('ft.model')"
      ],
      "execution_count": null,
      "outputs": [
        {
          "output_type": "stream",
          "text": [
            "CPU times: user 32min 32s, sys: 2.77 s, total: 32min 35s\n",
            "Wall time: 16min 47s\n"
          ],
          "name": "stdout"
        }
      ]
    },
    {
      "cell_type": "code",
      "metadata": {
        "id": "W86ifjangiUd"
      },
      "source": [
        "def word_averaging(wv, words):\n",
        "    mean = np.zeros((wv.vector_size,))\n",
        "    \n",
        "    for word in words:\n",
        "        mean += wv.get_vector(word)\n",
        "\n",
        "    mean = gensim.matutils.unitvec(mean)\n",
        "    return mean"
      ],
      "execution_count": null,
      "outputs": []
    },
    {
      "cell_type": "code",
      "metadata": {
        "colab": {
          "base_uri": "https://localhost:8080/"
        },
        "id": "d9Bgp-DzgiWy",
        "outputId": "7b4a1758-bbe0-4088-bb97-85e8ad2e2cb3"
      },
      "source": [
        "%%time\n",
        "\n",
        "union = FeatureUnion([\n",
        "    (\"char15\", TfidfVectorizer(ngram_range =(1,5), analyzer='char_wb',stop_words=['ndi'],max_df = 0.2 ,min_df = 0.0 , \n",
        "                             max_features = 10000)),\n",
        "    (\"word12\", TfidfVectorizer(ngram_range =(1,2), stop_words=['ndi'], max_df = 0.15 ,min_df = 0.01 ,\n",
        "                             max_features = 5000)),\n",
        "                      \n",
        "                      ('fast_vec', FunctionTransformer(lambda df: df.apply(lambda x: word_averaging(model.wv,[i for i in preprosses_text(x).split() if len(i) > 1])).tolist(),\n",
        "                                              validate=False)),\n",
        "                                          \n",
        "                      \n",
        "                      ])\n",
        "pipe = Pipeline([\n",
        "    ('feats', union),\n",
        "    ('clf',LogisticRegression( C = 5,solver = 'liblinear',class_weight='balanced'))\n",
        "    \n",
        "])\n",
        "\n",
        "\n",
        "res = cross_val_score(pipe, train['Text'],train['Label'],\n",
        "                            cv=StratifiedKFold(5, \n",
        "                                   shuffle=True, \n",
        "                                   random_state=777))\n",
        "print(res,'\\n mean:{:.3f} std :{:.3f}'.format(res.mean(),res.std()))"
      ],
      "execution_count": null,
      "outputs": [
        {
          "output_type": "stream",
          "text": [
            "[0.62847222 0.65156794 0.65505226 0.67944251 0.66202091] \n",
            " mean:0.655 std :0.017\n",
            "CPU times: user 1min 31s, sys: 18.2 s, total: 1min 50s\n",
            "Wall time: 1min 29s\n"
          ],
          "name": "stdout"
        }
      ]
    },
    {
      "cell_type": "code",
      "metadata": {
        "id": "Ng1z_RkhgpJP"
      },
      "source": [
        "pipe.fit( train['Text'],train['Label'])\n",
        "\n",
        "test.loc[:,\"Label\"] = pipe.predict(test['Text'])\n",
        "\n",
        "test[['ID','Label']].to_csv(\"subww_bal.csv\",index=False) \n",
        "\n",
        "#score 0.654838709677419 on private leaderboard"
      ],
      "execution_count": null,
      "outputs": []
    },
    {
      "cell_type": "code",
      "metadata": {
        "id": "JeM9BgFagpOG"
      },
      "source": [
        ""
      ],
      "execution_count": null,
      "outputs": []
    }
  ]
}